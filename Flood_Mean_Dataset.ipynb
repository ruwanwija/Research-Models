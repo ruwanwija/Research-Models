{
  "nbformat": 4,
  "nbformat_minor": 0,
  "metadata": {
    "colab": {
      "provenance": [],
      "gpuType": "V28",
      "include_colab_link": true
    },
    "kernelspec": {
      "name": "python3",
      "display_name": "Python 3"
    },
    "language_info": {
      "name": "python"
    },
    "accelerator": "TPU"
  },
  "cells": [
    {
      "cell_type": "markdown",
      "metadata": {
        "id": "view-in-github",
        "colab_type": "text"
      },
      "source": [
        "<a href=\"https://colab.research.google.com/github/ruwanwija/Research-Models/blob/main/Flood_Mean_Dataset.ipynb\" target=\"_parent\"><img src=\"https://colab.research.google.com/assets/colab-badge.svg\" alt=\"Open In Colab\"/></a>"
      ]
    },
    {
      "cell_type": "code",
      "source": [
        "from datetime import datetime\n",
        "\n",
        "# Function to calculate the difference between two dates\n",
        "def calculate_date_difference(date1, date2, date_format='%Y-%m-%d'):\n",
        "    d1 = datetime.strptime(date1, date_format)\n",
        "    d2 = datetime.strptime(date2, date_format)\n",
        "    return abs((d2 - d1).days)\n",
        "\n",
        "# Example usage\n",
        "date1 = \"2024-01-01\"\n",
        "date2 = \"2024-10-15\"\n",
        "difference = calculate_date_difference(date1, date2)\n",
        "print(f\"Difference between {date1} and {date2}: {difference} days\")\n"
      ],
      "metadata": {
        "colab": {
          "base_uri": "https://localhost:8080/"
        },
        "id": "2vM9hB3b35X6",
        "outputId": "30736642-36b5-4098-df39-870ea394d4ee"
      },
      "execution_count": null,
      "outputs": [
        {
          "output_type": "stream",
          "name": "stdout",
          "text": [
            "Difference between 2024-01-01 and 2024-10-15: 288 days\n"
          ]
        }
      ]
    },
    {
      "cell_type": "code",
      "execution_count": null,
      "metadata": {
        "colab": {
          "base_uri": "https://localhost:8080/"
        },
        "id": "QkYUYJHJ3aWb",
        "outputId": "02e7368b-6766-4137-f82c-ef64853b09bc"
      },
      "outputs": [
        {
          "output_type": "stream",
          "name": "stdout",
          "text": [
            "Mean of the given data points: 30.0\n"
          ]
        }
      ],
      "source": [
        "# Function to calculate the mean of a list of numbers\n",
        "def calculate_mean(data_points):\n",
        "    if len(data_points) == 0:\n",
        "        return 0  # Handle empty list case\n",
        "    return sum(data_points) / len(data_points)\n",
        "\n",
        "# Example usage\n",
        "data_points = []\n",
        "mean_value = calculate_mean(data_points)\n",
        "print(f\"Mean of the given data points: {mean_value}\")"
      ]
    }
  ]
}