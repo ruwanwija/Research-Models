{
  "nbformat": 4,
  "nbformat_minor": 0,
  "metadata": {
    "colab": {
      "provenance": [],
      "include_colab_link": true
    },
    "kernelspec": {
      "name": "python3",
      "display_name": "Python 3"
    },
    "language_info": {
      "name": "python"
    }
  },
  "cells": [
    {
      "cell_type": "markdown",
      "metadata": {
        "id": "view-in-github",
        "colab_type": "text"
      },
      "source": [
        "<a href=\"https://colab.research.google.com/github/ruwanwija/Research-Models/blob/main/Accademic_Research_Build_Model_and_Measure_Accuracy.ipynb\" target=\"_parent\"><img src=\"https://colab.research.google.com/assets/colab-badge.svg\" alt=\"Open In Colab\"/></a>"
      ]
    },
    {
      "cell_type": "markdown",
      "source": [
        "Import Libraries\n"
      ],
      "metadata": {
        "id": "KDddERtwp3s1"
      }
    },
    {
      "cell_type": "code",
      "execution_count": null,
      "metadata": {
        "id": "E8OVQfSXpw7H"
      },
      "outputs": [],
      "source": [
        "import pandas as pd\n",
        "from sklearn.model_selection import train_test_split\n",
        "from sklearn.linear_model import LogisticRegression\n",
        "from sklearn.tree import DecisionTreeClassifier\n",
        "from sklearn.ensemble import RandomForestClassifier, GradientBoostingClassifier\n",
        "from sklearn.svm import SVC\n",
        "from sklearn.metrics import accuracy_score, f1_score\n",
        "from sklearn.preprocessing import LabelEncoder"
      ]
    },
    {
      "cell_type": "markdown",
      "source": [
        "Load Data and Preprocessing"
      ],
      "metadata": {
        "id": "gU6RIikfqLmV"
      }
    },
    {
      "cell_type": "code",
      "source": [
        "# Load the dataset (replace with the actual file path)\n",
        "file_path = 'filled_dataset.csv'\n",
        "df = pd.read_csv(file_path)\n",
        "\n",
        "# Inspect the dataset (optional)\n",
        "print(df.head())\n"
      ],
      "metadata": {
        "colab": {
          "base_uri": "https://localhost:8080/"
        },
        "id": "iCVLl54QqMlz",
        "outputId": "993ae1a5-04ce-4856-d7f7-f1c8fd97618e"
      },
      "execution_count": null,
      "outputs": [
        {
          "output_type": "stream",
          "name": "stdout",
          "text": [
            "         date  temperature_2m_max  temperature_2m_min  temperature_2m_mean  \\\n",
            "0  2010-01-01                29.6                20.8                 25.4   \n",
            "1  2010-01-02                29.6                22.6                 25.4   \n",
            "2  2010-01-03                29.1                21.9                 24.9   \n",
            "3  2010-01-04                28.4                19.9                 24.2   \n",
            "4  2010-01-05                27.7                19.5                 23.6   \n",
            "\n",
            "   apparent_temperature_max  apparent_temperature_min  \\\n",
            "0                      35.5                      23.7   \n",
            "1                      35.2                      26.7   \n",
            "2                      36.2                      26.2   \n",
            "3                      33.1                      22.6   \n",
            "4                      30.7                      22.3   \n",
            "\n",
            "   apparent_temperature_mean  rain_sum  precipitation_hours  \\\n",
            "0                       29.8       0.1                    1   \n",
            "1                       30.2       0.9                    6   \n",
            "2                       29.9       2.5                    9   \n",
            "3                       28.2       0.2                    2   \n",
            "4                       26.6       0.0                    0   \n",
            "\n",
            "   windspeed_10m_max  ...  apparent_temperature_min_avg  \\\n",
            "0                5.9  ...                           0.0   \n",
            "1                5.5  ...                           0.0   \n",
            "2                4.5  ...                           0.0   \n",
            "3               10.4  ...                           0.0   \n",
            "4               14.2  ...                           0.0   \n",
            "\n",
            "   apparent_temperature_mean_avg  rain_sum_avg precipitation_hours_avg  \\\n",
            "0                            0.0           0.0                     0.0   \n",
            "1                            0.0           0.0                     0.0   \n",
            "2                            0.0           0.0                     0.0   \n",
            "3                            0.0           0.0                     0.0   \n",
            "4                            0.0           0.0                     0.0   \n",
            "\n",
            "   windspeed_10m_max_avg  windgusts_10m_max_avg  \\\n",
            "0                    0.0                    0.0   \n",
            "1                    0.0                    0.0   \n",
            "2                    0.0                    0.0   \n",
            "3                    0.0                    0.0   \n",
            "4                    0.0                    0.0   \n",
            "\n",
            "   winddirection_10m_dominant_avg  et0_fao_evapotranspiration  rain_intensity  \\\n",
            "0                             0.0                        4.16        0.100000   \n",
            "1                             0.0                        3.57        0.150000   \n",
            "2                             0.0                        3.36        0.277778   \n",
            "3                             0.0                        3.02        0.100000   \n",
            "4                             0.0                        4.36        0.000000   \n",
            "\n",
            "   rain_status  \n",
            "0        Light  \n",
            "1     Moderate  \n",
            "2     Moderate  \n",
            "3        Light  \n",
            "4        Light  \n",
            "\n",
            "[5 rows x 28 columns]\n"
          ]
        }
      ]
    },
    {
      "cell_type": "markdown",
      "source": [
        "Rain Prediction\n",
        "Preprocessing for Rain Prediction:"
      ],
      "metadata": {
        "id": "nJPortUpu8De"
      }
    },
    {
      "source": [
        "# Features for rain prediction\n",
        "rain_features = ['temperature_2m_max', 'temperature_2m_min', 'temperature_2m_mean', 'apparent_temperature_max',\n",
        "                 'apparent_temperature_min', 'apparent_temperature_mean', 'rain_sum', 'precipitation_hours',\n",
        "                 'windspeed_10m_max', 'windgusts_10m_max', 'winddirection_10m_dominant', 'flood level (m)',\n",
        "                 'Flood_Status', 'et0_fao_evapotranspiration', 'rain_intensity']\n",
        "target_rain = 'rain_status'\n",
        "\n",
        "# Features for flood prediction\n",
        "flood_features = ['temperature_2m_max_Avg', 'temperature_2m_min_avg', 'temperature_2m_mean_avg',\n",
        "                  'apparent_temperature_max_avg', 'apparent_temperature_min_avg', 'apparent_temperature_mean_avg',\n",
        "                  'rain_sum_avg', 'precipitation_hours_avg', 'windspeed_10m_max_avg', 'windgusts_10m_max_avg',\n",
        "                  'winddirection_10m_dominant_avg']\n",
        "target_flood = 'Flood_Status'\n",
        "\n",
        "# Convert categorical columns into numeric using Label Encoding\n",
        "label_encoder = LabelEncoder()\n",
        "\n",
        "# Assuming 'rain_status' and 'Status' are categorical\n",
        "df['rain_status'] = label_encoder.fit_transform(df['rain_status'])\n",
        "df['Flood_Status'] = label_encoder.fit_transform(df['Flood_Status'])\n",
        "\n",
        "# Similarly convert 'flood_status' to numerical if it's categorical\n",
        "df['Flood_Status'] = label_encoder.fit_transform(df['Flood_Status'])\n",
        "\n",
        "# Split the data into features and target for rain prediction\n",
        "X_rain = df[rain_features]\n",
        "y_rain = df[target_rain]\n",
        "\n",
        "# Split the data into features and target for flood prediction\n",
        "X_flood = df[flood_features]\n",
        "y_flood = df[target_flood]\n",
        "\n",
        "# Train-test split for rain prediction\n",
        "X_rain_train, X_rain_test, y_rain_train, y_rain_test = train_test_split(X_rain, y_rain, test_size=0.3, random_state=42)\n",
        "\n",
        "# Train-test split for flood prediction\n",
        "X_flood_train, X_flood_test, y_flood_train, y_flood_test = train_test_split(X_flood, y_flood, test_size=0.3, random_state=42)\n",
        "\n",
        "# Logistic Regression for Rain Prediction\n",
        "log_reg = LogisticRegression(max_iter=1000)\n",
        "log_reg.fit(X_rain_train, y_rain_train)\n",
        "y_pred_log_rain = log_reg.predict(X_rain_test)\n",
        "accuracy_log_rain = accuracy_score(y_rain_test, y_pred_log_rain)\n",
        "print(f\"Logistic Regression (Rain) Accuracy: {accuracy_log_rain * 100:.2f}%\")\n",
        "\n",
        "# Decision Tree for Rain Prediction\n",
        "tree_clf = DecisionTreeClassifier()\n",
        "tree_clf.fit(X_rain_train, y_rain_train)\n",
        "y_pred_tree_rain = tree_clf.predict(X_rain_test)\n",
        "accuracy_tree_rain = accuracy_score(y_rain_test, y_pred_tree_rain)\n",
        "print(f\"Decision Tree (Rain) Accuracy: {accuracy_tree_rain * 100:.2f}%\")\n",
        "\n",
        "# Random Forest for Rain Prediction\n",
        "rf_clf = RandomForestClassifier()\n",
        "rf_clf.fit(X_rain_train, y_rain_train)\n",
        "y_pred_rf_rain = rf_clf.predict(X_rain_test)\n",
        "accuracy_rf_rain = accuracy_score(y_rain_test, y_pred_rf_rain)\n",
        "print(f\"Random Forest (Rain) Accuracy: {accuracy_rf_rain * 100:.2f}%\")\n",
        "\n",
        "# Gradient Boosting Machines (GBM) for Rain Prediction\n",
        "gb_clf = GradientBoostingClassifier()\n",
        "gb_clf.fit(X_rain_train, y_rain_train)\n",
        "y_pred_gb_rain = gb_clf.predict(X_rain_test)\n",
        "accuracy_gb_rain = accuracy_score(y_rain_test, y_pred_gb_rain)\n",
        "print(f\"Gradient Boosting (Rain) Accuracy: {accuracy_gb_rain * 100:.2f}%\")\n",
        "\n",
        "# Support Vector Machine (SVM) for Rain Prediction\n",
        "svm_clf = SVC()\n",
        "svm_clf.fit(X_rain_train, y_rain_train)\n",
        "y_pred_svm_rain = svm_clf.predict(X_rain_test)\n",
        "accuracy_svm_rain = accuracy_score(y_rain_test, y_pred_svm_rain)\n",
        "print(f\"Support Vector Machine (Rain) Accuracy: {accuracy_svm_rain * 100:.2f}%\")\n",
        "\n",
        "# Logistic Regression for Flood Prediction\n",
        "log_reg_flood = LogisticRegression(max_iter=1000)\n",
        "log_reg_flood.fit(X_flood_train, y_flood_train)\n",
        "y_pred_log_flood = log_reg_flood.predict(X_flood_test)\n",
        "accuracy_log_flood = accuracy_score(y_flood_test, y_pred_log_flood)\n",
        "print(f\"Logistic Regression (Flood) Accuracy: {accuracy_log_flood * 100:.2f}%\")\n",
        "\n",
        "# Decision Tree for Flood Prediction\n",
        "tree_clf_flood = DecisionTreeClassifier()\n",
        "tree_clf_flood.fit(X_flood_train, y_flood_train)\n",
        "y_pred_tree_flood = tree_clf_flood.predict(X_flood_test)\n",
        "accuracy_tree_flood = accuracy_score(y_flood_test, y_pred_tree_flood)\n",
        "print(f\"Decision Tree (Flood) Accuracy: {accuracy_tree_flood * 100:.2f}%\")\n",
        "\n",
        "# Random Forest for Flood Prediction\n",
        "rf_clf_flood = RandomForestClassifier()\n",
        "rf_clf_flood.fit(X_flood_train, y_flood_train)\n",
        "y_pred_rf_flood = rf_clf_flood.predict(X_flood_test)\n",
        "accuracy_rf_flood = accuracy_score(y_flood_test, y_pred_rf_flood)\n",
        "print(f\"Random Forest (Flood) Accuracy: {accuracy_rf_flood * 100:.2f}%\")\n",
        "\n",
        "# Gradient Boosting Machines (GBM) for Flood Prediction\n",
        "gb_clf_flood = GradientBoostingClassifier()\n",
        "gb_clf_flood.fit(X_flood_train, y_flood_train)\n",
        "y_pred_gb_flood = gb_clf_flood.predict(X_flood_test)\n",
        "accuracy_gb_flood = accuracy_score(y_flood_test, y_pred_gb_flood)\n",
        "print(f\"Gradient Boosting (Flood) Accuracy: {accuracy_gb_flood * 100:.2f}%\")\n",
        "\n",
        "# Support Vector Machine (SVM) for Flood Prediction\n",
        "svm_clf_flood = SVC()\n",
        "svm_clf_flood.fit(X_flood_train, y_flood_train)\n",
        "y_pred_svm_flood = svm_clf_flood.predict(X_flood_test)\n",
        "accuracy_svm_flood = accuracy_score(y_flood_test, y_pred_svm_flood)\n",
        "print(f\"Support Vector Machine (Flood) Accuracy: {accuracy_svm_flood * 100:.2f}%\")"
      ],
      "cell_type": "code",
      "metadata": {
        "colab": {
          "base_uri": "https://localhost:8080/"
        },
        "id": "ILJap_WmvLW1",
        "outputId": "96938945-bb2e-428a-8408-6a77118d0951"
      },
      "execution_count": null,
      "outputs": [
        {
          "output_type": "stream",
          "name": "stderr",
          "text": [
            "/usr/local/lib/python3.10/dist-packages/sklearn/linear_model/_logistic.py:469: ConvergenceWarning: lbfgs failed to converge (status=1):\n",
            "STOP: TOTAL NO. of ITERATIONS REACHED LIMIT.\n",
            "\n",
            "Increase the number of iterations (max_iter) or scale the data as shown in:\n",
            "    https://scikit-learn.org/stable/modules/preprocessing.html\n",
            "Please also refer to the documentation for alternative solver options:\n",
            "    https://scikit-learn.org/stable/modules/linear_model.html#logistic-regression\n",
            "  n_iter_i = _check_optimize_result(\n"
          ]
        },
        {
          "output_type": "stream",
          "name": "stdout",
          "text": [
            "Logistic Regression (Rain) Accuracy: 96.47%\n",
            "Decision Tree (Rain) Accuracy: 99.93%\n",
            "Random Forest (Rain) Accuracy: 99.59%\n",
            "Gradient Boosting (Rain) Accuracy: 99.93%\n",
            "Support Vector Machine (Rain) Accuracy: 70.44%\n"
          ]
        },
        {
          "output_type": "stream",
          "name": "stderr",
          "text": [
            "/usr/local/lib/python3.10/dist-packages/sklearn/linear_model/_logistic.py:469: ConvergenceWarning: lbfgs failed to converge (status=1):\n",
            "STOP: TOTAL NO. of ITERATIONS REACHED LIMIT.\n",
            "\n",
            "Increase the number of iterations (max_iter) or scale the data as shown in:\n",
            "    https://scikit-learn.org/stable/modules/preprocessing.html\n",
            "Please also refer to the documentation for alternative solver options:\n",
            "    https://scikit-learn.org/stable/modules/linear_model.html#logistic-regression\n",
            "  n_iter_i = _check_optimize_result(\n"
          ]
        },
        {
          "output_type": "stream",
          "name": "stdout",
          "text": [
            "Logistic Regression (Flood) Accuracy: 99.80%\n",
            "Decision Tree (Flood) Accuracy: 99.25%\n",
            "Random Forest (Flood) Accuracy: 99.80%\n",
            "Gradient Boosting (Flood) Accuracy: 99.32%\n",
            "Support Vector Machine (Flood) Accuracy: 99.80%\n"
          ]
        }
      ]
    },
    {
      "cell_type": "code",
      "source": [
        "from sklearn.metrics import f1_score"
      ],
      "metadata": {
        "id": "YcBZelSIpSaT"
      },
      "execution_count": null,
      "outputs": []
    },
    {
      "cell_type": "code",
      "source": [
        "# Rain Prediction Models\n",
        "f1_log_rain = f1_score(y_rain_test, y_pred_log_rain, average='weighted') # Changed to 'weighted'\n",
        "f1_tree_rain = f1_score(y_rain_test, y_pred_tree_rain, average='weighted') # Changed to 'weighted'\n",
        "f1_rf_rain = f1_score(y_rain_test, y_pred_rf_rain, average='weighted') # Changed to 'weighted'\n",
        "f1_gb_rain = f1_score(y_rain_test, y_pred_gb_rain, average='weighted') # Changed to 'weighted'\n",
        "f1_svm_rain = f1_score(y_rain_test, y_pred_svm_rain, average='weighted') # Changed to 'weighted'\n",
        "\n",
        "# Flood Prediction Models\n",
        "f1_log_flood = f1_score(y_flood_test, y_pred_log_flood, average='weighted') # Changed to 'weighted'\n",
        "f1_tree_flood = f1_score(y_flood_test, y_pred_tree_flood, average='weighted') # Changed to 'weighted'\n",
        "f1_rf_flood = f1_score(y_flood_test, y_pred_rf_flood, average='weighted') # Changed to 'weighted'\n",
        "f1_gb_flood = f1_score(y_flood_test, y_pred_gb_flood, average='weighted') # Changed to 'weighted'\n",
        "f1_svm_flood = f1_score(y_flood_test, y_pred_svm_flood, average='weighted') # Changed to 'weighted'"
      ],
      "metadata": {
        "id": "vmb4xC6spc1L"
      },
      "execution_count": null,
      "outputs": []
    },
    {
      "cell_type": "code",
      "source": [
        "print(f\"Logistic Regression (Rain) F1-score: {f1_log_rain:.2f}\")\n",
        "print(f\"Decision Tree (Rain) F1-score: {f1_tree_rain:.2f}\")\n",
        "print(f\"Random Forest (Rain) F1-score: {f1_rf_rain:.2f}\")\n",
        "print(f\"Gradient Boosting (Rain) F1-score: {f1_gb_rain:.2f}\")\n",
        "print(f\"Support Vector Machine (Rain) F1-score: {f1_svm_rain:.2f}\")\n",
        "\n",
        "print(f\"Logistic Regression (Flood) F1-score: {f1_log_flood:.2f}\")\n",
        "print(f\"Decision Tree (Flood) F1-score: {f1_tree_flood:.2f}\")\n",
        "print(f\"Random Forest (Flood) F1-score: {f1_rf_flood:.2f}\")\n",
        "print(f\"Gradient Boosting (Flood) F1-score: {f1_gb_flood:.2f}\")\n",
        "print(f\"Support Vector Machine (Flood) F1-score: {f1_svm_flood:.2f}\")"
      ],
      "metadata": {
        "colab": {
          "base_uri": "https://localhost:8080/"
        },
        "id": "RYqLEQdNrk8z",
        "outputId": "65ec8f62-bb70-4e68-b9db-26b72c6668bf"
      },
      "execution_count": null,
      "outputs": [
        {
          "output_type": "stream",
          "name": "stdout",
          "text": [
            "Logistic Regression (Rain) F1-score: 0.96\n",
            "Decision Tree (Rain) F1-score: 1.00\n",
            "Random Forest (Rain) F1-score: 1.00\n",
            "Gradient Boosting (Rain) F1-score: 1.00\n",
            "Support Vector Machine (Rain) F1-score: 0.67\n",
            "Logistic Regression (Flood) F1-score: 1.00\n",
            "Decision Tree (Flood) F1-score: 0.99\n",
            "Random Forest (Flood) F1-score: 1.00\n",
            "Gradient Boosting (Flood) F1-score: 0.99\n",
            "Support Vector Machine (Flood) F1-score: 1.00\n"
          ]
        }
      ]
    },
    {
      "cell_type": "code",
      "source": [
        "from sklearn.metrics import recall_score"
      ],
      "metadata": {
        "id": "fTysZMOLsLc2"
      },
      "execution_count": null,
      "outputs": []
    },
    {
      "cell_type": "code",
      "source": [
        "# Rain Prediction Models\n",
        "recall_log_rain = recall_score(y_rain_test, y_pred_log_rain, average='weighted') # Added average='weighted'\n",
        "recall_tree_rain = recall_score(y_rain_test, y_pred_tree_rain, average='weighted') # Added average='weighted'\n",
        "recall_rf_rain = recall_score(y_rain_test, y_pred_rf_rain, average='weighted') # Added average='weighted'\n",
        "recall_gb_rain = recall_score(y_rain_test, y_pred_gb_rain, average='weighted') # Added average='weighted'\n",
        "recall_svm_rain = recall_score(y_rain_test, y_pred_svm_rain, average='weighted') # Added average='weighted'\n",
        "\n",
        "# Flood Prediction Models\n",
        "recall_log_flood = recall_score(y_flood_test, y_pred_log_flood, average='weighted') # Added average='weighted'\n",
        "recall_tree_flood = recall_score(y_flood_test, y_pred_tree_flood, average='weighted') # Added average='weighted'\n",
        "recall_rf_flood = recall_score(y_flood_test, y_pred_rf_flood, average='weighted') # Added average='weighted'\n",
        "recall_gb_flood = recall_score(y_flood_test, y_pred_gb_flood, average='weighted') # Added average='weighted'\n",
        "recall_svm_flood = recall_score(y_flood_test, y_pred_svm_flood, average='weighted') # Added average='weighted'"
      ],
      "metadata": {
        "colab": {
          "base_uri": "https://localhost:8080/"
        },
        "id": "rneu1_WisMub",
        "outputId": "6fee6df2-92af-4783-955b-94aaead8e20e"
      },
      "execution_count": null,
      "outputs": [
        {
          "output_type": "stream",
          "name": "stderr",
          "text": [
            "/usr/local/lib/python3.10/dist-packages/sklearn/metrics/_classification.py:1531: UndefinedMetricWarning: Recall is ill-defined and being set to 0.0 in labels with no true samples. Use `zero_division` parameter to control this behavior.\n",
            "  _warn_prf(average, modifier, f\"{metric.capitalize()} is\", len(result))\n",
            "/usr/local/lib/python3.10/dist-packages/sklearn/metrics/_classification.py:1531: UndefinedMetricWarning: Recall is ill-defined and being set to 0.0 in labels with no true samples. Use `zero_division` parameter to control this behavior.\n",
            "  _warn_prf(average, modifier, f\"{metric.capitalize()} is\", len(result))\n"
          ]
        }
      ]
    },
    {
      "cell_type": "code",
      "source": [
        "print(f\"Logistic Regression (Rain) Recall: {recall_log_rain:.2f}\")\n",
        "print(f\"Decision Tree (Rain) Recall: {recall_tree_rain:.2f}\")\n",
        "print(f\"Random Forest (Rain) Recall: {recall_rf_rain:.2f}\")\n",
        "print(f\"Gradient Boosting (Rain) Recall: {recall_gb_rain:.2f}\")\n",
        "print(f\"Support Vector Machine (Rain) Recall: {recall_svm_rain:.2f}\")\n",
        "\n",
        "print(f\"Logistic Regression (Flood) Recall: {recall_log_flood:.2f}\")\n",
        "print(f\"Decision Tree (Flood) Recall: {recall_tree_flood:.2f}\")\n",
        "print(f\"Random Forest (Flood) Recall: {recall_rf_flood:.2f}\")\n",
        "print(f\"Gradient Boosting (Flood) Recall: {recall_gb_flood:.2f}\")\n",
        "print(f\"Support Vector Machine (Flood) Recall: {recall_svm_flood:.2f}\")"
      ],
      "metadata": {
        "colab": {
          "base_uri": "https://localhost:8080/"
        },
        "id": "bc1HICZZsZBo",
        "outputId": "a3604fb1-de43-49ee-9f28-b665175d8de3"
      },
      "execution_count": null,
      "outputs": [
        {
          "output_type": "stream",
          "name": "stdout",
          "text": [
            "Logistic Regression (Rain) Recall: 0.96\n",
            "Decision Tree (Rain) Recall: 1.00\n",
            "Random Forest (Rain) Recall: 1.00\n",
            "Gradient Boosting (Rain) Recall: 1.00\n",
            "Support Vector Machine (Rain) Recall: 0.70\n",
            "Logistic Regression (Flood) Recall: 1.00\n",
            "Decision Tree (Flood) Recall: 0.99\n",
            "Random Forest (Flood) Recall: 1.00\n",
            "Gradient Boosting (Flood) Recall: 0.99\n",
            "Support Vector Machine (Flood) Recall: 1.00\n"
          ]
        }
      ]
    },
    {
      "cell_type": "code",
      "source": [
        "from sklearn.metrics import precision_score"
      ],
      "metadata": {
        "id": "WLVufSEqsnT-"
      },
      "execution_count": null,
      "outputs": []
    },
    {
      "cell_type": "code",
      "source": [
        "# Rain Prediction Models\n",
        "precision_log_rain = precision_score(y_rain_test, y_pred_log_rain)\n",
        "precision_tree_rain = precision_score(y_rain_test, y_pred_tree_rain)\n",
        "precision_rf_rain = precision_score(y_rain_test, y_pred_rf_rain)\n",
        "precision_gb_rain = precision_score(y_rain_test, y_pred_gb_rain)\n",
        "precision_svm_rain = precision_score(y_rain_test, y_pred_svm_rain)\n",
        "\n",
        "# Flood Prediction Models\n",
        "precision_log_flood = precision_score(y_flood_test, y_pred_log_flood)\n",
        "precision_tree_flood = precision_score(y_flood_test, y_pred_tree_flood)\n",
        "precision_rf_flood = precision_score(y_flood_test, y_pred_rf_flood)\n",
        "precision_gb_flood = precision_score(y_flood_test, y_pred_gb_flood)\n",
        "precision_svm_flood = precision_score(y_flood_test, y_pred_svm_flood)"
      ],
      "metadata": {
        "colab": {
          "base_uri": "https://localhost:8080/",
          "height": 408
        },
        "id": "BjABPSqTspBP",
        "outputId": "7f678e26-ae9a-4545-cc3f-2bb3e8b3e164"
      },
      "execution_count": null,
      "outputs": [
        {
          "output_type": "error",
          "ename": "ValueError",
          "evalue": "Target is multiclass but average='binary'. Please choose another average setting, one of [None, 'micro', 'macro', 'weighted'].",
          "traceback": [
            "\u001b[0;31m---------------------------------------------------------------------------\u001b[0m",
            "\u001b[0;31mValueError\u001b[0m                                Traceback (most recent call last)",
            "\u001b[0;32m<ipython-input-24-cb5c421647f4>\u001b[0m in \u001b[0;36m<cell line: 2>\u001b[0;34m()\u001b[0m\n\u001b[1;32m      1\u001b[0m \u001b[0;31m# Rain Prediction Models\u001b[0m\u001b[0;34m\u001b[0m\u001b[0;34m\u001b[0m\u001b[0m\n\u001b[0;32m----> 2\u001b[0;31m \u001b[0mprecision_log_rain\u001b[0m \u001b[0;34m=\u001b[0m \u001b[0mprecision_score\u001b[0m\u001b[0;34m(\u001b[0m\u001b[0my_rain_test\u001b[0m\u001b[0;34m,\u001b[0m \u001b[0my_pred_log_rain\u001b[0m\u001b[0;34m)\u001b[0m\u001b[0;34m\u001b[0m\u001b[0;34m\u001b[0m\u001b[0m\n\u001b[0m\u001b[1;32m      3\u001b[0m \u001b[0mprecision_tree_rain\u001b[0m \u001b[0;34m=\u001b[0m \u001b[0mprecision_score\u001b[0m\u001b[0;34m(\u001b[0m\u001b[0my_rain_test\u001b[0m\u001b[0;34m,\u001b[0m \u001b[0my_pred_tree_rain\u001b[0m\u001b[0;34m)\u001b[0m\u001b[0;34m\u001b[0m\u001b[0;34m\u001b[0m\u001b[0m\n\u001b[1;32m      4\u001b[0m \u001b[0mprecision_rf_rain\u001b[0m \u001b[0;34m=\u001b[0m \u001b[0mprecision_score\u001b[0m\u001b[0;34m(\u001b[0m\u001b[0my_rain_test\u001b[0m\u001b[0;34m,\u001b[0m \u001b[0my_pred_rf_rain\u001b[0m\u001b[0;34m)\u001b[0m\u001b[0;34m\u001b[0m\u001b[0;34m\u001b[0m\u001b[0m\n\u001b[1;32m      5\u001b[0m \u001b[0mprecision_gb_rain\u001b[0m \u001b[0;34m=\u001b[0m \u001b[0mprecision_score\u001b[0m\u001b[0;34m(\u001b[0m\u001b[0my_rain_test\u001b[0m\u001b[0;34m,\u001b[0m \u001b[0my_pred_gb_rain\u001b[0m\u001b[0;34m)\u001b[0m\u001b[0;34m\u001b[0m\u001b[0;34m\u001b[0m\u001b[0m\n",
            "\u001b[0;32m/usr/local/lib/python3.10/dist-packages/sklearn/utils/_param_validation.py\u001b[0m in \u001b[0;36mwrapper\u001b[0;34m(*args, **kwargs)\u001b[0m\n\u001b[1;32m    211\u001b[0m                     )\n\u001b[1;32m    212\u001b[0m                 ):\n\u001b[0;32m--> 213\u001b[0;31m                     \u001b[0;32mreturn\u001b[0m \u001b[0mfunc\u001b[0m\u001b[0;34m(\u001b[0m\u001b[0;34m*\u001b[0m\u001b[0margs\u001b[0m\u001b[0;34m,\u001b[0m \u001b[0;34m**\u001b[0m\u001b[0mkwargs\u001b[0m\u001b[0;34m)\u001b[0m\u001b[0;34m\u001b[0m\u001b[0;34m\u001b[0m\u001b[0m\n\u001b[0m\u001b[1;32m    214\u001b[0m             \u001b[0;32mexcept\u001b[0m \u001b[0mInvalidParameterError\u001b[0m \u001b[0;32mas\u001b[0m \u001b[0me\u001b[0m\u001b[0;34m:\u001b[0m\u001b[0;34m\u001b[0m\u001b[0;34m\u001b[0m\u001b[0m\n\u001b[1;32m    215\u001b[0m                 \u001b[0;31m# When the function is just a wrapper around an estimator, we allow\u001b[0m\u001b[0;34m\u001b[0m\u001b[0;34m\u001b[0m\u001b[0m\n",
            "\u001b[0;32m/usr/local/lib/python3.10/dist-packages/sklearn/metrics/_classification.py\u001b[0m in \u001b[0;36mprecision_score\u001b[0;34m(y_true, y_pred, labels, pos_label, average, sample_weight, zero_division)\u001b[0m\n\u001b[1;32m   2202\u001b[0m     \u001b[0marray\u001b[0m\u001b[0;34m(\u001b[0m\u001b[0;34m[\u001b[0m\u001b[0;36m0.5\u001b[0m\u001b[0;34m,\u001b[0m \u001b[0;36m1.\u001b[0m \u001b[0;34m,\u001b[0m \u001b[0;36m1.\u001b[0m \u001b[0;34m]\u001b[0m\u001b[0;34m)\u001b[0m\u001b[0;34m\u001b[0m\u001b[0;34m\u001b[0m\u001b[0m\n\u001b[1;32m   2203\u001b[0m     \"\"\"\n\u001b[0;32m-> 2204\u001b[0;31m     p, _, _, _ = precision_recall_fscore_support(\n\u001b[0m\u001b[1;32m   2205\u001b[0m         \u001b[0my_true\u001b[0m\u001b[0;34m,\u001b[0m\u001b[0;34m\u001b[0m\u001b[0;34m\u001b[0m\u001b[0m\n\u001b[1;32m   2206\u001b[0m         \u001b[0my_pred\u001b[0m\u001b[0;34m,\u001b[0m\u001b[0;34m\u001b[0m\u001b[0;34m\u001b[0m\u001b[0m\n",
            "\u001b[0;32m/usr/local/lib/python3.10/dist-packages/sklearn/utils/_param_validation.py\u001b[0m in \u001b[0;36mwrapper\u001b[0;34m(*args, **kwargs)\u001b[0m\n\u001b[1;32m    184\u001b[0m             \u001b[0mglobal_skip_validation\u001b[0m \u001b[0;34m=\u001b[0m \u001b[0mget_config\u001b[0m\u001b[0;34m(\u001b[0m\u001b[0;34m)\u001b[0m\u001b[0;34m[\u001b[0m\u001b[0;34m\"skip_parameter_validation\"\u001b[0m\u001b[0;34m]\u001b[0m\u001b[0;34m\u001b[0m\u001b[0;34m\u001b[0m\u001b[0m\n\u001b[1;32m    185\u001b[0m             \u001b[0;32mif\u001b[0m \u001b[0mglobal_skip_validation\u001b[0m\u001b[0;34m:\u001b[0m\u001b[0;34m\u001b[0m\u001b[0;34m\u001b[0m\u001b[0m\n\u001b[0;32m--> 186\u001b[0;31m                 \u001b[0;32mreturn\u001b[0m \u001b[0mfunc\u001b[0m\u001b[0;34m(\u001b[0m\u001b[0;34m*\u001b[0m\u001b[0margs\u001b[0m\u001b[0;34m,\u001b[0m \u001b[0;34m**\u001b[0m\u001b[0mkwargs\u001b[0m\u001b[0;34m)\u001b[0m\u001b[0;34m\u001b[0m\u001b[0;34m\u001b[0m\u001b[0m\n\u001b[0m\u001b[1;32m    187\u001b[0m \u001b[0;34m\u001b[0m\u001b[0m\n\u001b[1;32m    188\u001b[0m             \u001b[0mfunc_sig\u001b[0m \u001b[0;34m=\u001b[0m \u001b[0msignature\u001b[0m\u001b[0;34m(\u001b[0m\u001b[0mfunc\u001b[0m\u001b[0;34m)\u001b[0m\u001b[0;34m\u001b[0m\u001b[0;34m\u001b[0m\u001b[0m\n",
            "\u001b[0;32m/usr/local/lib/python3.10/dist-packages/sklearn/metrics/_classification.py\u001b[0m in \u001b[0;36mprecision_recall_fscore_support\u001b[0;34m(y_true, y_pred, beta, labels, pos_label, average, warn_for, sample_weight, zero_division)\u001b[0m\n\u001b[1;32m   1787\u001b[0m     \"\"\"\n\u001b[1;32m   1788\u001b[0m     \u001b[0m_check_zero_division\u001b[0m\u001b[0;34m(\u001b[0m\u001b[0mzero_division\u001b[0m\u001b[0;34m)\u001b[0m\u001b[0;34m\u001b[0m\u001b[0;34m\u001b[0m\u001b[0m\n\u001b[0;32m-> 1789\u001b[0;31m     \u001b[0mlabels\u001b[0m \u001b[0;34m=\u001b[0m \u001b[0m_check_set_wise_labels\u001b[0m\u001b[0;34m(\u001b[0m\u001b[0my_true\u001b[0m\u001b[0;34m,\u001b[0m \u001b[0my_pred\u001b[0m\u001b[0;34m,\u001b[0m \u001b[0maverage\u001b[0m\u001b[0;34m,\u001b[0m \u001b[0mlabels\u001b[0m\u001b[0;34m,\u001b[0m \u001b[0mpos_label\u001b[0m\u001b[0;34m)\u001b[0m\u001b[0;34m\u001b[0m\u001b[0;34m\u001b[0m\u001b[0m\n\u001b[0m\u001b[1;32m   1790\u001b[0m \u001b[0;34m\u001b[0m\u001b[0m\n\u001b[1;32m   1791\u001b[0m     \u001b[0;31m# Calculate tp_sum, pred_sum, true_sum ###\u001b[0m\u001b[0;34m\u001b[0m\u001b[0;34m\u001b[0m\u001b[0m\n",
            "\u001b[0;32m/usr/local/lib/python3.10/dist-packages/sklearn/metrics/_classification.py\u001b[0m in \u001b[0;36m_check_set_wise_labels\u001b[0;34m(y_true, y_pred, average, labels, pos_label)\u001b[0m\n\u001b[1;32m   1576\u001b[0m             \u001b[0;32mif\u001b[0m \u001b[0my_type\u001b[0m \u001b[0;34m==\u001b[0m \u001b[0;34m\"multiclass\"\u001b[0m\u001b[0;34m:\u001b[0m\u001b[0;34m\u001b[0m\u001b[0;34m\u001b[0m\u001b[0m\n\u001b[1;32m   1577\u001b[0m                 \u001b[0maverage_options\u001b[0m\u001b[0;34m.\u001b[0m\u001b[0mremove\u001b[0m\u001b[0;34m(\u001b[0m\u001b[0;34m\"samples\"\u001b[0m\u001b[0;34m)\u001b[0m\u001b[0;34m\u001b[0m\u001b[0;34m\u001b[0m\u001b[0m\n\u001b[0;32m-> 1578\u001b[0;31m             raise ValueError(\n\u001b[0m\u001b[1;32m   1579\u001b[0m                 \u001b[0;34m\"Target is %s but average='binary'. Please \"\u001b[0m\u001b[0;34m\u001b[0m\u001b[0;34m\u001b[0m\u001b[0m\n\u001b[1;32m   1580\u001b[0m                 \u001b[0;34m\"choose another average setting, one of %r.\"\u001b[0m \u001b[0;34m%\u001b[0m \u001b[0;34m(\u001b[0m\u001b[0my_type\u001b[0m\u001b[0;34m,\u001b[0m \u001b[0maverage_options\u001b[0m\u001b[0;34m)\u001b[0m\u001b[0;34m\u001b[0m\u001b[0;34m\u001b[0m\u001b[0m\n",
            "\u001b[0;31mValueError\u001b[0m: Target is multiclass but average='binary'. Please choose another average setting, one of [None, 'micro', 'macro', 'weighted']."
          ]
        }
      ]
    },
    {
      "cell_type": "code",
      "source": [
        "# Rain Prediction Models\n",
        "precision_log_rain = precision_score(y_rain_test, y_pred_log_rain, average='weighted') # Added average='weighted'\n",
        "precision_tree_rain = precision_score(y_rain_test, y_pred_tree_rain, average='weighted') # Added average='weighted'\n",
        "precision_rf_rain = precision_score(y_rain_test, y_pred_rf_rain, average='weighted') # Added average='weighted'\n",
        "precision_gb_rain = precision_score(y_rain_test, y_pred_gb_rain, average='weighted') # Added average='weighted'\n",
        "precision_svm_rain = precision_score(y_rain_test, y_pred_svm_rain, average='weighted') # Added average='weighted'\n",
        "\n",
        "# Flood Prediction Models\n",
        "precision_log_flood = precision_score(y_flood_test, y_pred_log_flood, average='weighted') # Added average='weighted'\n",
        "precision_tree_flood = precision_score(y_flood_test, y_pred_tree_flood, average='weighted') # Added average='weighted'\n",
        "precision_rf_flood = precision_score(y_flood_test, y_pred_rf_flood, average='weighted') # Added average='weighted'\n",
        "precision_gb_flood = precision_score(y_flood_test, y_pred_gb_flood, average='weighted') # Added average='weighted'\n",
        "precision_svm_flood = precision_score(y_flood_test, y_pred_svm_flood, average='weighted') # Added average='weighted'"
      ],
      "metadata": {
        "id": "Pqe9gE33swi7",
        "outputId": "a4184c0a-30ee-4413-850b-5a636efb734e",
        "colab": {
          "base_uri": "https://localhost:8080/"
        }
      },
      "execution_count": null,
      "outputs": [
        {
          "output_type": "stream",
          "name": "stderr",
          "text": [
            "/usr/local/lib/python3.10/dist-packages/sklearn/metrics/_classification.py:1531: UndefinedMetricWarning: Precision is ill-defined and being set to 0.0 in labels with no predicted samples. Use `zero_division` parameter to control this behavior.\n",
            "  _warn_prf(average, modifier, f\"{metric.capitalize()} is\", len(result))\n",
            "/usr/local/lib/python3.10/dist-packages/sklearn/metrics/_classification.py:1531: UndefinedMetricWarning: Precision is ill-defined and being set to 0.0 in labels with no predicted samples. Use `zero_division` parameter to control this behavior.\n",
            "  _warn_prf(average, modifier, f\"{metric.capitalize()} is\", len(result))\n",
            "/usr/local/lib/python3.10/dist-packages/sklearn/metrics/_classification.py:1531: UndefinedMetricWarning: Precision is ill-defined and being set to 0.0 in labels with no predicted samples. Use `zero_division` parameter to control this behavior.\n",
            "  _warn_prf(average, modifier, f\"{metric.capitalize()} is\", len(result))\n",
            "/usr/local/lib/python3.10/dist-packages/sklearn/metrics/_classification.py:1531: UndefinedMetricWarning: Precision is ill-defined and being set to 0.0 in labels with no predicted samples. Use `zero_division` parameter to control this behavior.\n",
            "  _warn_prf(average, modifier, f\"{metric.capitalize()} is\", len(result))\n",
            "/usr/local/lib/python3.10/dist-packages/sklearn/metrics/_classification.py:1531: UndefinedMetricWarning: Precision is ill-defined and being set to 0.0 in labels with no predicted samples. Use `zero_division` parameter to control this behavior.\n",
            "  _warn_prf(average, modifier, f\"{metric.capitalize()} is\", len(result))\n",
            "/usr/local/lib/python3.10/dist-packages/sklearn/metrics/_classification.py:1531: UndefinedMetricWarning: Precision is ill-defined and being set to 0.0 in labels with no predicted samples. Use `zero_division` parameter to control this behavior.\n",
            "  _warn_prf(average, modifier, f\"{metric.capitalize()} is\", len(result))\n"
          ]
        }
      ]
    },
    {
      "cell_type": "code",
      "source": [
        "print(f\"Logistic Regression (Rain) Precision: {precision_log_rain:.2f}\")\n",
        "print(f\"Decision Tree (Rain) Precision: {precision_tree_rain:.2f}\")\n",
        "print(f\"Random Forest (Rain) Precision: {precision_rf_rain:.2f}\")\n",
        "print(f\"Gradient Boosting (Rain) Precision: {precision_gb_rain:.2f}\")\n",
        "print(f\"Support Vector Machine (Rain) Precision: {precision_svm_rain:.2f}\")\n",
        "\n",
        "print(f\"Logistic Regression (Flood) Precision: {precision_log_flood:.2f}\")\n",
        "print(f\"Decision Tree (Flood) Precision: {precision_tree_flood:.2f}\")\n",
        "print(f\"Random Forest (Flood) Precision: {precision_rf_flood:.2f}\")\n",
        "print(f\"Gradient Boosting (Flood) Precision: {precision_gb_flood:.2f}\")\n",
        "print(f\"Support Vector Machine (Flood) Precision: {precision_svm_flood:.2f}\")"
      ],
      "metadata": {
        "id": "VK5J0Oq2szSg",
        "outputId": "9a5c416d-5948-4b86-e953-bd0fef1ab6ab",
        "colab": {
          "base_uri": "https://localhost:8080/"
        }
      },
      "execution_count": null,
      "outputs": [
        {
          "output_type": "stream",
          "name": "stdout",
          "text": [
            "Logistic Regression (Rain) Precision: 0.97\n",
            "Decision Tree (Rain) Precision: 1.00\n",
            "Random Forest (Rain) Precision: 1.00\n",
            "Gradient Boosting (Rain) Precision: 1.00\n",
            "Support Vector Machine (Rain) Precision: 0.69\n",
            "Logistic Regression (Flood) Precision: 1.00\n",
            "Decision Tree (Flood) Precision: 1.00\n",
            "Random Forest (Flood) Precision: 1.00\n",
            "Gradient Boosting (Flood) Precision: 1.00\n",
            "Support Vector Machine (Flood) Precision: 1.00\n"
          ]
        }
      ]
    }
  ]
}